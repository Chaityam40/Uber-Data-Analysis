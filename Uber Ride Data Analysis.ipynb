{
 "cells": [
  {
   "cell_type": "markdown",
   "metadata": {},
   "source": [
    "# Uber Data Analysis"
   ]
  },
  {
   "cell_type": "code",
   "execution_count": 1,
   "metadata": {},
   "outputs": [],
   "source": [
    "import pandas as pd\n",
    "import calendar\n",
    "import matplotlib.pyplot as plt\n",
    "from matplotlib.font_manager import FontProperties\n"
   ]
  },
  {
   "cell_type": "markdown",
   "metadata": {},
   "source": [
    "# Reading 5 files from the month of May till September"
   ]
  },
  {
   "cell_type": "code",
   "execution_count": 2,
   "metadata": {},
   "outputs": [],
   "source": [
    "data_frame1=pd.read_csv(\"C:/Users/chait/Downloads/Uber-dataset/uber-raw-data-apr14.csv\")\n",
    "data_frame2=pd.read_csv(\"C:/Users/chait/Downloads/Uber-dataset/uber-raw-data-may14.csv\")\n",
    "data_frame3=pd.read_csv(\"C:/Users/chait/Downloads/Uber-dataset/uber-raw-data-jun14.csv\")\n",
    "data_frame4=pd.read_csv(\"C:/Users/chait/Downloads/Uber-dataset/uber-raw-data-jul14.csv\")\n",
    "data_frame5=pd.read_csv(\"C:/Users/chait/Downloads/Uber-dataset/uber-raw-data-aug14.csv\")\n",
    "data_frame6=pd.read_csv(\"C:/Users/chait/Downloads/Uber-dataset/uber-raw-data-sep14.csv\")"
   ]
  },
  {
   "cell_type": "markdown",
   "metadata": {},
   "source": [
    "# Aggregating the 5 files one below the other and keep the columns as same. i.e. performing concat function"
   ]
  },
  {
   "cell_type": "code",
   "execution_count": 3,
   "metadata": {},
   "outputs": [],
   "source": [
    "final_dataframe=pd.concat([data_frame1,data_frame2,data_frame3,data_frame4,data_frame5,data_frame6])"
   ]
  },
  {
   "cell_type": "code",
   "execution_count": 4,
   "metadata": {},
   "outputs": [
    {
     "data": {
      "text/html": [
       "<div>\n",
       "<style scoped>\n",
       "    .dataframe tbody tr th:only-of-type {\n",
       "        vertical-align: middle;\n",
       "    }\n",
       "\n",
       "    .dataframe tbody tr th {\n",
       "        vertical-align: top;\n",
       "    }\n",
       "\n",
       "    .dataframe thead th {\n",
       "        text-align: right;\n",
       "    }\n",
       "</style>\n",
       "<table border=\"1\" class=\"dataframe\">\n",
       "  <thead>\n",
       "    <tr style=\"text-align: right;\">\n",
       "      <th></th>\n",
       "      <th>Date/Time</th>\n",
       "      <th>Lat</th>\n",
       "      <th>Lon</th>\n",
       "      <th>Base</th>\n",
       "    </tr>\n",
       "  </thead>\n",
       "  <tbody>\n",
       "    <tr>\n",
       "      <th>0</th>\n",
       "      <td>4/1/2014 0:11:00</td>\n",
       "      <td>40.7690</td>\n",
       "      <td>-73.9549</td>\n",
       "      <td>B02512</td>\n",
       "    </tr>\n",
       "    <tr>\n",
       "      <th>1</th>\n",
       "      <td>4/1/2014 0:17:00</td>\n",
       "      <td>40.7267</td>\n",
       "      <td>-74.0345</td>\n",
       "      <td>B02512</td>\n",
       "    </tr>\n",
       "    <tr>\n",
       "      <th>2</th>\n",
       "      <td>4/1/2014 0:21:00</td>\n",
       "      <td>40.7316</td>\n",
       "      <td>-73.9873</td>\n",
       "      <td>B02512</td>\n",
       "    </tr>\n",
       "    <tr>\n",
       "      <th>3</th>\n",
       "      <td>4/1/2014 0:28:00</td>\n",
       "      <td>40.7588</td>\n",
       "      <td>-73.9776</td>\n",
       "      <td>B02512</td>\n",
       "    </tr>\n",
       "    <tr>\n",
       "      <th>4</th>\n",
       "      <td>4/1/2014 0:33:00</td>\n",
       "      <td>40.7594</td>\n",
       "      <td>-73.9722</td>\n",
       "      <td>B02512</td>\n",
       "    </tr>\n",
       "    <tr>\n",
       "      <th>...</th>\n",
       "      <td>...</td>\n",
       "      <td>...</td>\n",
       "      <td>...</td>\n",
       "      <td>...</td>\n",
       "    </tr>\n",
       "    <tr>\n",
       "      <th>1028131</th>\n",
       "      <td>9/30/2014 22:57:00</td>\n",
       "      <td>40.7668</td>\n",
       "      <td>-73.9845</td>\n",
       "      <td>B02764</td>\n",
       "    </tr>\n",
       "    <tr>\n",
       "      <th>1028132</th>\n",
       "      <td>9/30/2014 22:57:00</td>\n",
       "      <td>40.6911</td>\n",
       "      <td>-74.1773</td>\n",
       "      <td>B02764</td>\n",
       "    </tr>\n",
       "    <tr>\n",
       "      <th>1028133</th>\n",
       "      <td>9/30/2014 22:58:00</td>\n",
       "      <td>40.8519</td>\n",
       "      <td>-73.9319</td>\n",
       "      <td>B02764</td>\n",
       "    </tr>\n",
       "    <tr>\n",
       "      <th>1028134</th>\n",
       "      <td>9/30/2014 22:58:00</td>\n",
       "      <td>40.7081</td>\n",
       "      <td>-74.0066</td>\n",
       "      <td>B02764</td>\n",
       "    </tr>\n",
       "    <tr>\n",
       "      <th>1028135</th>\n",
       "      <td>9/30/2014 22:58:00</td>\n",
       "      <td>40.7140</td>\n",
       "      <td>-73.9496</td>\n",
       "      <td>B02764</td>\n",
       "    </tr>\n",
       "  </tbody>\n",
       "</table>\n",
       "<p>4534327 rows × 4 columns</p>\n",
       "</div>"
      ],
      "text/plain": [
       "                  Date/Time      Lat      Lon    Base\n",
       "0          4/1/2014 0:11:00  40.7690 -73.9549  B02512\n",
       "1          4/1/2014 0:17:00  40.7267 -74.0345  B02512\n",
       "2          4/1/2014 0:21:00  40.7316 -73.9873  B02512\n",
       "3          4/1/2014 0:28:00  40.7588 -73.9776  B02512\n",
       "4          4/1/2014 0:33:00  40.7594 -73.9722  B02512\n",
       "...                     ...      ...      ...     ...\n",
       "1028131  9/30/2014 22:57:00  40.7668 -73.9845  B02764\n",
       "1028132  9/30/2014 22:57:00  40.6911 -74.1773  B02764\n",
       "1028133  9/30/2014 22:58:00  40.8519 -73.9319  B02764\n",
       "1028134  9/30/2014 22:58:00  40.7081 -74.0066  B02764\n",
       "1028135  9/30/2014 22:58:00  40.7140 -73.9496  B02764\n",
       "\n",
       "[4534327 rows x 4 columns]"
      ]
     },
     "execution_count": 4,
     "metadata": {},
     "output_type": "execute_result"
    }
   ],
   "source": [
    "final_dataframe"
   ]
  },
  {
   "cell_type": "code",
   "execution_count": 5,
   "metadata": {},
   "outputs": [],
   "source": [
    "# Converting the datatype of Date/Time column to \"Datetime\"\n",
    "final_dataframe['Date/Time']=pd.to_datetime(final_dataframe['Date/Time'])"
   ]
  },
  {
   "cell_type": "code",
   "execution_count": 6,
   "metadata": {},
   "outputs": [
    {
     "data": {
      "text/html": [
       "<div>\n",
       "<style scoped>\n",
       "    .dataframe tbody tr th:only-of-type {\n",
       "        vertical-align: middle;\n",
       "    }\n",
       "\n",
       "    .dataframe tbody tr th {\n",
       "        vertical-align: top;\n",
       "    }\n",
       "\n",
       "    .dataframe thead th {\n",
       "        text-align: right;\n",
       "    }\n",
       "</style>\n",
       "<table border=\"1\" class=\"dataframe\">\n",
       "  <thead>\n",
       "    <tr style=\"text-align: right;\">\n",
       "      <th></th>\n",
       "      <th>Date/Time</th>\n",
       "      <th>Lat</th>\n",
       "      <th>Lon</th>\n",
       "      <th>Base</th>\n",
       "    </tr>\n",
       "  </thead>\n",
       "  <tbody>\n",
       "    <tr>\n",
       "      <th>0</th>\n",
       "      <td>2014-04-01 00:11:00</td>\n",
       "      <td>40.7690</td>\n",
       "      <td>-73.9549</td>\n",
       "      <td>B02512</td>\n",
       "    </tr>\n",
       "    <tr>\n",
       "      <th>1</th>\n",
       "      <td>2014-04-01 00:17:00</td>\n",
       "      <td>40.7267</td>\n",
       "      <td>-74.0345</td>\n",
       "      <td>B02512</td>\n",
       "    </tr>\n",
       "    <tr>\n",
       "      <th>2</th>\n",
       "      <td>2014-04-01 00:21:00</td>\n",
       "      <td>40.7316</td>\n",
       "      <td>-73.9873</td>\n",
       "      <td>B02512</td>\n",
       "    </tr>\n",
       "    <tr>\n",
       "      <th>3</th>\n",
       "      <td>2014-04-01 00:28:00</td>\n",
       "      <td>40.7588</td>\n",
       "      <td>-73.9776</td>\n",
       "      <td>B02512</td>\n",
       "    </tr>\n",
       "    <tr>\n",
       "      <th>4</th>\n",
       "      <td>2014-04-01 00:33:00</td>\n",
       "      <td>40.7594</td>\n",
       "      <td>-73.9722</td>\n",
       "      <td>B02512</td>\n",
       "    </tr>\n",
       "    <tr>\n",
       "      <th>...</th>\n",
       "      <td>...</td>\n",
       "      <td>...</td>\n",
       "      <td>...</td>\n",
       "      <td>...</td>\n",
       "    </tr>\n",
       "    <tr>\n",
       "      <th>1028131</th>\n",
       "      <td>2014-09-30 22:57:00</td>\n",
       "      <td>40.7668</td>\n",
       "      <td>-73.9845</td>\n",
       "      <td>B02764</td>\n",
       "    </tr>\n",
       "    <tr>\n",
       "      <th>1028132</th>\n",
       "      <td>2014-09-30 22:57:00</td>\n",
       "      <td>40.6911</td>\n",
       "      <td>-74.1773</td>\n",
       "      <td>B02764</td>\n",
       "    </tr>\n",
       "    <tr>\n",
       "      <th>1028133</th>\n",
       "      <td>2014-09-30 22:58:00</td>\n",
       "      <td>40.8519</td>\n",
       "      <td>-73.9319</td>\n",
       "      <td>B02764</td>\n",
       "    </tr>\n",
       "    <tr>\n",
       "      <th>1028134</th>\n",
       "      <td>2014-09-30 22:58:00</td>\n",
       "      <td>40.7081</td>\n",
       "      <td>-74.0066</td>\n",
       "      <td>B02764</td>\n",
       "    </tr>\n",
       "    <tr>\n",
       "      <th>1028135</th>\n",
       "      <td>2014-09-30 22:58:00</td>\n",
       "      <td>40.7140</td>\n",
       "      <td>-73.9496</td>\n",
       "      <td>B02764</td>\n",
       "    </tr>\n",
       "  </tbody>\n",
       "</table>\n",
       "<p>4534327 rows × 4 columns</p>\n",
       "</div>"
      ],
      "text/plain": [
       "                  Date/Time      Lat      Lon    Base\n",
       "0       2014-04-01 00:11:00  40.7690 -73.9549  B02512\n",
       "1       2014-04-01 00:17:00  40.7267 -74.0345  B02512\n",
       "2       2014-04-01 00:21:00  40.7316 -73.9873  B02512\n",
       "3       2014-04-01 00:28:00  40.7588 -73.9776  B02512\n",
       "4       2014-04-01 00:33:00  40.7594 -73.9722  B02512\n",
       "...                     ...      ...      ...     ...\n",
       "1028131 2014-09-30 22:57:00  40.7668 -73.9845  B02764\n",
       "1028132 2014-09-30 22:57:00  40.6911 -74.1773  B02764\n",
       "1028133 2014-09-30 22:58:00  40.8519 -73.9319  B02764\n",
       "1028134 2014-09-30 22:58:00  40.7081 -74.0066  B02764\n",
       "1028135 2014-09-30 22:58:00  40.7140 -73.9496  B02764\n",
       "\n",
       "[4534327 rows x 4 columns]"
      ]
     },
     "execution_count": 6,
     "metadata": {},
     "output_type": "execute_result"
    }
   ],
   "source": [
    "final_dataframe"
   ]
  },
  {
   "cell_type": "markdown",
   "metadata": {},
   "source": [
    "# Fetching year from Date/Time column"
   ]
  },
  {
   "cell_type": "code",
   "execution_count": 7,
   "metadata": {},
   "outputs": [],
   "source": [
    "final_dataframe['year'] = pd.DatetimeIndex(final_dataframe['Date/Time']).year"
   ]
  },
  {
   "cell_type": "markdown",
   "metadata": {},
   "source": [
    "# In this script, I am fetching the month from the Date/Time column. After that, I am converting the month value to month name"
   ]
  },
  {
   "cell_type": "code",
   "execution_count": 8,
   "metadata": {},
   "outputs": [],
   "source": [
    "\n",
    "final_dataframe['month'] = pd.DatetimeIndex(final_dataframe['Date/Time']).month\n",
    "final_dataframe=final_dataframe.sort_values(by='month', ascending=False)\n",
    "final_dataframe['month'] = final_dataframe['month'].apply(lambda x: calendar.month_abbr[x])"
   ]
  },
  {
   "cell_type": "markdown",
   "metadata": {},
   "source": [
    "# Fetching Day from Date/Time column"
   ]
  },
  {
   "cell_type": "code",
   "execution_count": 9,
   "metadata": {},
   "outputs": [],
   "source": [
    "final_dataframe['day'] = pd.DatetimeIndex(final_dataframe['Date/Time']).day"
   ]
  },
  {
   "cell_type": "markdown",
   "metadata": {},
   "source": [
    "# Fetching Day of Week from Date/Time column"
   ]
  },
  {
   "cell_type": "code",
   "execution_count": 10,
   "metadata": {},
   "outputs": [],
   "source": [
    "final_dataframe['Day of Week'] = pd.DatetimeIndex(final_dataframe['Date/Time']).dayofweek"
   ]
  },
  {
   "cell_type": "code",
   "execution_count": 11,
   "metadata": {},
   "outputs": [
    {
     "data": {
      "text/html": [
       "<div>\n",
       "<style scoped>\n",
       "    .dataframe tbody tr th:only-of-type {\n",
       "        vertical-align: middle;\n",
       "    }\n",
       "\n",
       "    .dataframe tbody tr th {\n",
       "        vertical-align: top;\n",
       "    }\n",
       "\n",
       "    .dataframe thead th {\n",
       "        text-align: right;\n",
       "    }\n",
       "</style>\n",
       "<table border=\"1\" class=\"dataframe\">\n",
       "  <thead>\n",
       "    <tr style=\"text-align: right;\">\n",
       "      <th></th>\n",
       "      <th>Date/Time</th>\n",
       "      <th>Lat</th>\n",
       "      <th>Lon</th>\n",
       "      <th>Base</th>\n",
       "      <th>year</th>\n",
       "      <th>month</th>\n",
       "      <th>day</th>\n",
       "      <th>Day of Week</th>\n",
       "    </tr>\n",
       "  </thead>\n",
       "  <tbody>\n",
       "    <tr>\n",
       "      <th>1028135</th>\n",
       "      <td>2014-09-30 22:58:00</td>\n",
       "      <td>40.7140</td>\n",
       "      <td>-73.9496</td>\n",
       "      <td>B02764</td>\n",
       "      <td>2014</td>\n",
       "      <td>Sep</td>\n",
       "      <td>30</td>\n",
       "      <td>1</td>\n",
       "    </tr>\n",
       "    <tr>\n",
       "      <th>342707</th>\n",
       "      <td>2014-09-06 10:48:00</td>\n",
       "      <td>40.6733</td>\n",
       "      <td>-73.9763</td>\n",
       "      <td>B02617</td>\n",
       "      <td>2014</td>\n",
       "      <td>Sep</td>\n",
       "      <td>6</td>\n",
       "      <td>5</td>\n",
       "    </tr>\n",
       "    <tr>\n",
       "      <th>342720</th>\n",
       "      <td>2014-09-06 10:50:00</td>\n",
       "      <td>40.7218</td>\n",
       "      <td>-73.9947</td>\n",
       "      <td>B02617</td>\n",
       "      <td>2014</td>\n",
       "      <td>Sep</td>\n",
       "      <td>6</td>\n",
       "      <td>5</td>\n",
       "    </tr>\n",
       "    <tr>\n",
       "      <th>342719</th>\n",
       "      <td>2014-09-06 10:50:00</td>\n",
       "      <td>40.7933</td>\n",
       "      <td>-73.9152</td>\n",
       "      <td>B02617</td>\n",
       "      <td>2014</td>\n",
       "      <td>Sep</td>\n",
       "      <td>6</td>\n",
       "      <td>5</td>\n",
       "    </tr>\n",
       "    <tr>\n",
       "      <th>342718</th>\n",
       "      <td>2014-09-06 10:50:00</td>\n",
       "      <td>40.7152</td>\n",
       "      <td>-74.0131</td>\n",
       "      <td>B02617</td>\n",
       "      <td>2014</td>\n",
       "      <td>Sep</td>\n",
       "      <td>6</td>\n",
       "      <td>5</td>\n",
       "    </tr>\n",
       "    <tr>\n",
       "      <th>...</th>\n",
       "      <td>...</td>\n",
       "      <td>...</td>\n",
       "      <td>...</td>\n",
       "      <td>...</td>\n",
       "      <td>...</td>\n",
       "      <td>...</td>\n",
       "      <td>...</td>\n",
       "      <td>...</td>\n",
       "    </tr>\n",
       "    <tr>\n",
       "      <th>376351</th>\n",
       "      <td>2014-04-07 05:25:00</td>\n",
       "      <td>40.7283</td>\n",
       "      <td>-74.0031</td>\n",
       "      <td>B02682</td>\n",
       "      <td>2014</td>\n",
       "      <td>Apr</td>\n",
       "      <td>7</td>\n",
       "      <td>0</td>\n",
       "    </tr>\n",
       "    <tr>\n",
       "      <th>376352</th>\n",
       "      <td>2014-04-07 05:25:00</td>\n",
       "      <td>40.6141</td>\n",
       "      <td>-73.9187</td>\n",
       "      <td>B02682</td>\n",
       "      <td>2014</td>\n",
       "      <td>Apr</td>\n",
       "      <td>7</td>\n",
       "      <td>0</td>\n",
       "    </tr>\n",
       "    <tr>\n",
       "      <th>376353</th>\n",
       "      <td>2014-04-07 05:26:00</td>\n",
       "      <td>40.7341</td>\n",
       "      <td>-73.9812</td>\n",
       "      <td>B02682</td>\n",
       "      <td>2014</td>\n",
       "      <td>Apr</td>\n",
       "      <td>7</td>\n",
       "      <td>0</td>\n",
       "    </tr>\n",
       "    <tr>\n",
       "      <th>376354</th>\n",
       "      <td>2014-04-07 05:26:00</td>\n",
       "      <td>40.7349</td>\n",
       "      <td>-73.9813</td>\n",
       "      <td>B02682</td>\n",
       "      <td>2014</td>\n",
       "      <td>Apr</td>\n",
       "      <td>7</td>\n",
       "      <td>0</td>\n",
       "    </tr>\n",
       "    <tr>\n",
       "      <th>0</th>\n",
       "      <td>2014-04-01 00:11:00</td>\n",
       "      <td>40.7690</td>\n",
       "      <td>-73.9549</td>\n",
       "      <td>B02512</td>\n",
       "      <td>2014</td>\n",
       "      <td>Apr</td>\n",
       "      <td>1</td>\n",
       "      <td>1</td>\n",
       "    </tr>\n",
       "  </tbody>\n",
       "</table>\n",
       "<p>4534327 rows × 8 columns</p>\n",
       "</div>"
      ],
      "text/plain": [
       "                  Date/Time      Lat      Lon    Base  year month  day  \\\n",
       "1028135 2014-09-30 22:58:00  40.7140 -73.9496  B02764  2014   Sep   30   \n",
       "342707  2014-09-06 10:48:00  40.6733 -73.9763  B02617  2014   Sep    6   \n",
       "342720  2014-09-06 10:50:00  40.7218 -73.9947  B02617  2014   Sep    6   \n",
       "342719  2014-09-06 10:50:00  40.7933 -73.9152  B02617  2014   Sep    6   \n",
       "342718  2014-09-06 10:50:00  40.7152 -74.0131  B02617  2014   Sep    6   \n",
       "...                     ...      ...      ...     ...   ...   ...  ...   \n",
       "376351  2014-04-07 05:25:00  40.7283 -74.0031  B02682  2014   Apr    7   \n",
       "376352  2014-04-07 05:25:00  40.6141 -73.9187  B02682  2014   Apr    7   \n",
       "376353  2014-04-07 05:26:00  40.7341 -73.9812  B02682  2014   Apr    7   \n",
       "376354  2014-04-07 05:26:00  40.7349 -73.9813  B02682  2014   Apr    7   \n",
       "0       2014-04-01 00:11:00  40.7690 -73.9549  B02512  2014   Apr    1   \n",
       "\n",
       "         Day of Week  \n",
       "1028135            1  \n",
       "342707             5  \n",
       "342720             5  \n",
       "342719             5  \n",
       "342718             5  \n",
       "...              ...  \n",
       "376351             0  \n",
       "376352             0  \n",
       "376353             0  \n",
       "376354             0  \n",
       "0                  1  \n",
       "\n",
       "[4534327 rows x 8 columns]"
      ]
     },
     "execution_count": 11,
     "metadata": {},
     "output_type": "execute_result"
    }
   ],
   "source": [
    "final_dataframe"
   ]
  },
  {
   "cell_type": "markdown",
   "metadata": {},
   "source": [
    "# Checking th value of counts associated with Day of Week\n",
    "# I am doing this because, I want to convert the values to name of Weekdays and again cross checking, if both the values are matching or not\n"
   ]
  },
  {
   "cell_type": "code",
   "execution_count": 12,
   "metadata": {},
   "outputs": [
    {
     "data": {
      "text/plain": [
       "3    755145\n",
       "4    741139\n",
       "2    696488\n",
       "1    663789\n",
       "5    646114\n",
       "0    541472\n",
       "6    490180\n",
       "Name: Day of Week, dtype: int64"
      ]
     },
     "execution_count": 12,
     "metadata": {},
     "output_type": "execute_result"
    }
   ],
   "source": [
    "final_dataframe['Day of Week'].value_counts()"
   ]
  },
  {
   "cell_type": "markdown",
   "metadata": {},
   "source": [
    "# Converting the values of Day of Week column to Weekday name"
   ]
  },
  {
   "cell_type": "code",
   "execution_count": 13,
   "metadata": {},
   "outputs": [],
   "source": [
    "final_dataframe['Day of Week'] = final_dataframe['Day of Week'].replace([6],\"Sunday\")"
   ]
  },
  {
   "cell_type": "code",
   "execution_count": 14,
   "metadata": {},
   "outputs": [],
   "source": [
    "final_dataframe['Day of Week'] = final_dataframe['Day of Week'].replace([5],\"Saturday\")"
   ]
  },
  {
   "cell_type": "code",
   "execution_count": 15,
   "metadata": {},
   "outputs": [],
   "source": [
    "final_dataframe['Day of Week'] = final_dataframe['Day of Week'].replace([4],\"Friday\")"
   ]
  },
  {
   "cell_type": "code",
   "execution_count": 16,
   "metadata": {},
   "outputs": [],
   "source": [
    "final_dataframe['Day of Week'] = final_dataframe['Day of Week'].replace([3],\"Thursday\")"
   ]
  },
  {
   "cell_type": "code",
   "execution_count": 17,
   "metadata": {},
   "outputs": [],
   "source": [
    "final_dataframe['Day of Week'] = final_dataframe['Day of Week'].replace([2],\"Wednesday\")"
   ]
  },
  {
   "cell_type": "code",
   "execution_count": 18,
   "metadata": {},
   "outputs": [],
   "source": [
    "final_dataframe['Day of Week'] = final_dataframe['Day of Week'].replace([1],\"Tuesday\")"
   ]
  },
  {
   "cell_type": "code",
   "execution_count": 19,
   "metadata": {},
   "outputs": [],
   "source": [
    "final_dataframe['Day of Week'] = final_dataframe['Day of Week'].replace([0],\"Monday\")"
   ]
  },
  {
   "cell_type": "code",
   "execution_count": 20,
   "metadata": {},
   "outputs": [
    {
     "data": {
      "text/plain": [
       "Thursday     755145\n",
       "Friday       741139\n",
       "Wednesday    696488\n",
       "Tuesday      663789\n",
       "Saturday     646114\n",
       "Monday       541472\n",
       "Sunday       490180\n",
       "Name: Day of Week, dtype: int64"
      ]
     },
     "execution_count": 20,
     "metadata": {},
     "output_type": "execute_result"
    }
   ],
   "source": [
    "final_dataframe['Day of Week'].value_counts()"
   ]
  },
  {
   "cell_type": "markdown",
   "metadata": {},
   "source": [
    "# Data transformation for fetching \"hour\",\"minute\",\"second\" from the Date/Time column"
   ]
  },
  {
   "cell_type": "code",
   "execution_count": 21,
   "metadata": {},
   "outputs": [],
   "source": [
    "final_dataframe['hour'] = pd.DatetimeIndex(final_dataframe['Date/Time']).hour\n",
    "final_dataframe['minute'] = pd.DatetimeIndex(final_dataframe['Date/Time']).minute\n",
    "final_dataframe['second'] = pd.DatetimeIndex(final_dataframe['Date/Time']).second"
   ]
  },
  {
   "cell_type": "code",
   "execution_count": 22,
   "metadata": {},
   "outputs": [
    {
     "data": {
      "text/html": [
       "<div>\n",
       "<style scoped>\n",
       "    .dataframe tbody tr th:only-of-type {\n",
       "        vertical-align: middle;\n",
       "    }\n",
       "\n",
       "    .dataframe tbody tr th {\n",
       "        vertical-align: top;\n",
       "    }\n",
       "\n",
       "    .dataframe thead th {\n",
       "        text-align: right;\n",
       "    }\n",
       "</style>\n",
       "<table border=\"1\" class=\"dataframe\">\n",
       "  <thead>\n",
       "    <tr style=\"text-align: right;\">\n",
       "      <th></th>\n",
       "      <th>Date/Time</th>\n",
       "      <th>Lat</th>\n",
       "      <th>Lon</th>\n",
       "      <th>Base</th>\n",
       "      <th>year</th>\n",
       "      <th>month</th>\n",
       "      <th>day</th>\n",
       "      <th>Day of Week</th>\n",
       "      <th>hour</th>\n",
       "      <th>minute</th>\n",
       "      <th>second</th>\n",
       "    </tr>\n",
       "  </thead>\n",
       "  <tbody>\n",
       "    <tr>\n",
       "      <th>1028135</th>\n",
       "      <td>2014-09-30 22:58:00</td>\n",
       "      <td>40.7140</td>\n",
       "      <td>-73.9496</td>\n",
       "      <td>B02764</td>\n",
       "      <td>2014</td>\n",
       "      <td>Sep</td>\n",
       "      <td>30</td>\n",
       "      <td>Tuesday</td>\n",
       "      <td>22</td>\n",
       "      <td>58</td>\n",
       "      <td>0</td>\n",
       "    </tr>\n",
       "    <tr>\n",
       "      <th>342707</th>\n",
       "      <td>2014-09-06 10:48:00</td>\n",
       "      <td>40.6733</td>\n",
       "      <td>-73.9763</td>\n",
       "      <td>B02617</td>\n",
       "      <td>2014</td>\n",
       "      <td>Sep</td>\n",
       "      <td>6</td>\n",
       "      <td>Saturday</td>\n",
       "      <td>10</td>\n",
       "      <td>48</td>\n",
       "      <td>0</td>\n",
       "    </tr>\n",
       "    <tr>\n",
       "      <th>342720</th>\n",
       "      <td>2014-09-06 10:50:00</td>\n",
       "      <td>40.7218</td>\n",
       "      <td>-73.9947</td>\n",
       "      <td>B02617</td>\n",
       "      <td>2014</td>\n",
       "      <td>Sep</td>\n",
       "      <td>6</td>\n",
       "      <td>Saturday</td>\n",
       "      <td>10</td>\n",
       "      <td>50</td>\n",
       "      <td>0</td>\n",
       "    </tr>\n",
       "    <tr>\n",
       "      <th>342719</th>\n",
       "      <td>2014-09-06 10:50:00</td>\n",
       "      <td>40.7933</td>\n",
       "      <td>-73.9152</td>\n",
       "      <td>B02617</td>\n",
       "      <td>2014</td>\n",
       "      <td>Sep</td>\n",
       "      <td>6</td>\n",
       "      <td>Saturday</td>\n",
       "      <td>10</td>\n",
       "      <td>50</td>\n",
       "      <td>0</td>\n",
       "    </tr>\n",
       "    <tr>\n",
       "      <th>342718</th>\n",
       "      <td>2014-09-06 10:50:00</td>\n",
       "      <td>40.7152</td>\n",
       "      <td>-74.0131</td>\n",
       "      <td>B02617</td>\n",
       "      <td>2014</td>\n",
       "      <td>Sep</td>\n",
       "      <td>6</td>\n",
       "      <td>Saturday</td>\n",
       "      <td>10</td>\n",
       "      <td>50</td>\n",
       "      <td>0</td>\n",
       "    </tr>\n",
       "    <tr>\n",
       "      <th>...</th>\n",
       "      <td>...</td>\n",
       "      <td>...</td>\n",
       "      <td>...</td>\n",
       "      <td>...</td>\n",
       "      <td>...</td>\n",
       "      <td>...</td>\n",
       "      <td>...</td>\n",
       "      <td>...</td>\n",
       "      <td>...</td>\n",
       "      <td>...</td>\n",
       "      <td>...</td>\n",
       "    </tr>\n",
       "    <tr>\n",
       "      <th>376351</th>\n",
       "      <td>2014-04-07 05:25:00</td>\n",
       "      <td>40.7283</td>\n",
       "      <td>-74.0031</td>\n",
       "      <td>B02682</td>\n",
       "      <td>2014</td>\n",
       "      <td>Apr</td>\n",
       "      <td>7</td>\n",
       "      <td>Monday</td>\n",
       "      <td>5</td>\n",
       "      <td>25</td>\n",
       "      <td>0</td>\n",
       "    </tr>\n",
       "    <tr>\n",
       "      <th>376352</th>\n",
       "      <td>2014-04-07 05:25:00</td>\n",
       "      <td>40.6141</td>\n",
       "      <td>-73.9187</td>\n",
       "      <td>B02682</td>\n",
       "      <td>2014</td>\n",
       "      <td>Apr</td>\n",
       "      <td>7</td>\n",
       "      <td>Monday</td>\n",
       "      <td>5</td>\n",
       "      <td>25</td>\n",
       "      <td>0</td>\n",
       "    </tr>\n",
       "    <tr>\n",
       "      <th>376353</th>\n",
       "      <td>2014-04-07 05:26:00</td>\n",
       "      <td>40.7341</td>\n",
       "      <td>-73.9812</td>\n",
       "      <td>B02682</td>\n",
       "      <td>2014</td>\n",
       "      <td>Apr</td>\n",
       "      <td>7</td>\n",
       "      <td>Monday</td>\n",
       "      <td>5</td>\n",
       "      <td>26</td>\n",
       "      <td>0</td>\n",
       "    </tr>\n",
       "    <tr>\n",
       "      <th>376354</th>\n",
       "      <td>2014-04-07 05:26:00</td>\n",
       "      <td>40.7349</td>\n",
       "      <td>-73.9813</td>\n",
       "      <td>B02682</td>\n",
       "      <td>2014</td>\n",
       "      <td>Apr</td>\n",
       "      <td>7</td>\n",
       "      <td>Monday</td>\n",
       "      <td>5</td>\n",
       "      <td>26</td>\n",
       "      <td>0</td>\n",
       "    </tr>\n",
       "    <tr>\n",
       "      <th>0</th>\n",
       "      <td>2014-04-01 00:11:00</td>\n",
       "      <td>40.7690</td>\n",
       "      <td>-73.9549</td>\n",
       "      <td>B02512</td>\n",
       "      <td>2014</td>\n",
       "      <td>Apr</td>\n",
       "      <td>1</td>\n",
       "      <td>Tuesday</td>\n",
       "      <td>0</td>\n",
       "      <td>11</td>\n",
       "      <td>0</td>\n",
       "    </tr>\n",
       "  </tbody>\n",
       "</table>\n",
       "<p>4534327 rows × 11 columns</p>\n",
       "</div>"
      ],
      "text/plain": [
       "                  Date/Time      Lat      Lon    Base  year month  day  \\\n",
       "1028135 2014-09-30 22:58:00  40.7140 -73.9496  B02764  2014   Sep   30   \n",
       "342707  2014-09-06 10:48:00  40.6733 -73.9763  B02617  2014   Sep    6   \n",
       "342720  2014-09-06 10:50:00  40.7218 -73.9947  B02617  2014   Sep    6   \n",
       "342719  2014-09-06 10:50:00  40.7933 -73.9152  B02617  2014   Sep    6   \n",
       "342718  2014-09-06 10:50:00  40.7152 -74.0131  B02617  2014   Sep    6   \n",
       "...                     ...      ...      ...     ...   ...   ...  ...   \n",
       "376351  2014-04-07 05:25:00  40.7283 -74.0031  B02682  2014   Apr    7   \n",
       "376352  2014-04-07 05:25:00  40.6141 -73.9187  B02682  2014   Apr    7   \n",
       "376353  2014-04-07 05:26:00  40.7341 -73.9812  B02682  2014   Apr    7   \n",
       "376354  2014-04-07 05:26:00  40.7349 -73.9813  B02682  2014   Apr    7   \n",
       "0       2014-04-01 00:11:00  40.7690 -73.9549  B02512  2014   Apr    1   \n",
       "\n",
       "        Day of Week  hour  minute  second  \n",
       "1028135     Tuesday    22      58       0  \n",
       "342707     Saturday    10      48       0  \n",
       "342720     Saturday    10      50       0  \n",
       "342719     Saturday    10      50       0  \n",
       "342718     Saturday    10      50       0  \n",
       "...             ...   ...     ...     ...  \n",
       "376351       Monday     5      25       0  \n",
       "376352       Monday     5      25       0  \n",
       "376353       Monday     5      26       0  \n",
       "376354       Monday     5      26       0  \n",
       "0           Tuesday     0      11       0  \n",
       "\n",
       "[4534327 rows x 11 columns]"
      ]
     },
     "execution_count": 22,
     "metadata": {},
     "output_type": "execute_result"
    }
   ],
   "source": [
    "final_dataframe"
   ]
  },
  {
   "cell_type": "markdown",
   "metadata": {},
   "source": [
    "# Trips during every hour of each month"
   ]
  },
  {
   "cell_type": "code",
   "execution_count": 23,
   "metadata": {},
   "outputs": [
    {
     "data": {
      "text/plain": [
       "<matplotlib.legend.Legend at 0x213819de488>"
      ]
     },
     "execution_count": 23,
     "metadata": {},
     "output_type": "execute_result"
    },
    {
     "data": {
      "image/png": "[encoded data removed]",
      "text/plain": [
       "<Figure size 432x288 with 1 Axes>"
      ]
     },
     "metadata": {
      "needs_background": "light"
     },
     "output_type": "display_data"
    }
   ],
   "source": [
    "final_dataframe.groupby(['month','hour'])['month'].count().unstack('month').plot.bar(stacked=True,color=(\"navajowhite\",\"orange\",\"darkgoldenrod\",\"orangered\",\"indianred\",\"maroon\"),title=\"Trips by Hour for each Month\").legend(bbox_to_anchor=(1.2, 1))"
   ]
  },
  {
   "cell_type": "code",
   "execution_count": 24,
   "metadata": {},
   "outputs": [
    {
     "data": {
      "text/plain": [
       "<matplotlib.axes._subplots.AxesSubplot at 0x213a7d80d48>"
      ]
     },
     "execution_count": 24,
     "metadata": {},
     "output_type": "execute_result"
    },
    {
     "data": {
      "image/png": "[encoded data removed]",
      "text/plain": [
       "<Figure size 432x288 with 1 Axes>"
      ]
     },
     "metadata": {
      "needs_background": "light"
     },
     "output_type": "display_data"
    }
   ],
   "source": [
    "final_dataframe.groupby('hour').hour.count().plot(kind='bar',color='green',edgecolor='yellow',title=\"Trips Every Hour\")"
   ]
  },
  {
   "cell_type": "markdown",
   "metadata": {},
   "source": [
    "# Analysis by hour for each month:\n",
    "# From the abpve analysis, we cal tell that maximum number of trips are higher in the evening timings around 5:00pm to 6:00pm and the month of September and August had the majority of trips during that hours"
   ]
  },
  {
   "cell_type": "code",
   "execution_count": 25,
   "metadata": {},
   "outputs": [
    {
     "data": {
      "text/plain": [
       "<matplotlib.legend.Legend at 0x213a7d3c6c8>"
      ]
     },
     "execution_count": 25,
     "metadata": {},
     "output_type": "execute_result"
    },
    {
     "data": {
      "image/png": "[encoded data removed]",
      "text/plain": [
       "<Figure size 432x288 with 1 Axes>"
      ]
     },
     "metadata": {
      "needs_background": "light"
     },
     "output_type": "display_data"
    }
   ],
   "source": [
    "final_dataframe.groupby(['month','day'])['day'].count().unstack('month').plot.bar(stacked=True,color=(\"lightblue\",\"blue\",\"lightgreen\",\"olive\",\"yellow\",\"darkorange\"),title=\"Trips by Every Day\").legend(bbox_to_anchor=(1.2, 1))"
   ]
  },
  {
   "cell_type": "markdown",
   "metadata": {},
   "source": [
    "# The maximum of trips were recorded on the 30th of each month with the month of April having the maximum records"
   ]
  },
  {
   "cell_type": "markdown",
   "metadata": {},
   "source": [
    "# Number of trips taking place during each months in a year"
   ]
  },
  {
   "cell_type": "code",
   "execution_count": 26,
   "metadata": {},
   "outputs": [
    {
     "data": {
      "text/plain": [
       "<matplotlib.axes._subplots.AxesSubplot at 0x213a7f4d188>"
      ]
     },
     "execution_count": 26,
     "metadata": {},
     "output_type": "execute_result"
    },
    {
     "data": {
      "image/png": "[encoded data removed]",
      "text/plain": [
       "<Figure size 432x288 with 1 Axes>"
      ]
     },
     "metadata": {
      "needs_background": "light"
     },
     "output_type": "display_data"
    }
   ],
   "source": [
    "final_dataframe.groupby('month').month.count().plot(kind='bar',color='grey',edgecolor='yellow',title=\"Trips Every Month\")"
   ]
  },
  {
   "cell_type": "code",
   "execution_count": 27,
   "metadata": {},
   "outputs": [
    {
     "data": {
      "text/plain": [
       "<matplotlib.legend.Legend at 0x213a7f51188>"
      ]
     },
     "execution_count": 27,
     "metadata": {},
     "output_type": "execute_result"
    },
    {
     "data": {
      "image/png": "[encoded data removed]",
      "text/plain": [
       "<Figure size 720x504 with 1 Axes>"
      ]
     },
     "metadata": {
      "needs_background": "light"
     },
     "output_type": "display_data"
    }
   ],
   "source": [
    "\n",
    "\n",
    "final_dataframe.groupby(['month','Day of Week'])['month'].count().unstack('Day of Week').plot.bar(stacked=False,color=(\"yellow\",\"mediumspringgreen\",\"chartreuse\",\"yellowgreen\",\"mediumseagreen\",\"green\",\"olive\"),title=\"Trips by Day for each Month\",figsize=(10,7),width=0.8,legend=False).legend(bbox_to_anchor=(1.2, 1))\n"
   ]
  },
  {
   "cell_type": "markdown",
   "metadata": {},
   "source": [
    "# Analysis for trips by month:\n",
    "# 1 - Trips every month -> The most number of trips were recorded in the month of September\n",
    "\n",
    "\n",
    "# 2 - Trips by Day for each Month ->\n",
    "# a.) Friday was the busiest day for the month of August and May\n",
    "# b.) Thursday was the busiest day for the month of June and July.\n",
    "# c.) Highest number of trips were recorded on Tuesday's,for the month of September"
   ]
  },
  {
   "cell_type": "markdown",
   "metadata": {},
   "source": [
    "# Finding out the Number of trips by Bases:"
   ]
  },
  {
   "cell_type": "code",
   "execution_count": 28,
   "metadata": {},
   "outputs": [
    {
     "data": {
      "text/plain": [
       "<matplotlib.axes._subplots.AxesSubplot at 0x213a8353bc8>"
      ]
     },
     "execution_count": 28,
     "metadata": {},
     "output_type": "execute_result"
    },
    {
     "data": {
      "image/png": "[encoded data removed]",
      "text/plain": [
       "<Figure size 432x288 with 1 Axes>"
      ]
     },
     "metadata": {
      "needs_background": "light"
     },
     "output_type": "display_data"
    }
   ],
   "source": [
    "final_dataframe.groupby('Base').Base.count().plot(kind='bar',color='grey',edgecolor='yellow',title=\"Trips by Bases\")"
   ]
  },
  {
   "cell_type": "code",
   "execution_count": 29,
   "metadata": {},
   "outputs": [
    {
     "data": {
      "text/plain": [
       "<matplotlib.legend.Legend at 0x213a83d8f88>"
      ]
     },
     "execution_count": 29,
     "metadata": {},
     "output_type": "execute_result"
    },
    {
     "data": {
      "image/png": "[encoded data removed]",
      "text/plain": [
       "<Figure size 720x504 with 1 Axes>"
      ]
     },
     "metadata": {
      "needs_background": "light"
     },
     "output_type": "display_data"
    }
   ],
   "source": [
    "final_dataframe.groupby(['month','Base'])['month'].count().unstack('month').plot.bar(stacked=False,color=(\"violet\",\"fuchsia\",\"darkviolet\",\"rebeccapurple\",\"deeppink\",\"crimson\",\"red\"),title=\"Trips by Base and Month\",figsize=(10,7),width=0.8,legend=False).legend(bbox_to_anchor=(1.2, 1))\n"
   ]
  },
  {
   "cell_type": "code",
   "execution_count": 30,
   "metadata": {},
   "outputs": [
    {
     "data": {
      "text/plain": [
       "<matplotlib.legend.Legend at 0x213a83df0c8>"
      ]
     },
     "execution_count": 30,
     "metadata": {},
     "output_type": "execute_result"
    },
    {
     "data": {
      "image/png": "[encoded data removed]",
      "text/plain": [
       "<Figure size 720x504 with 1 Axes>"
      ]
     },
     "metadata": {
      "needs_background": "light"
     },
     "output_type": "display_data"
    }
   ],
   "source": [
    "final_dataframe.groupby(['Base','Day of Week'])['Base'].count().unstack('Day of Week').plot.bar(stacked=False,color=(\"bisque\",\"tan\",\"lavender\",\"lightgrey\",\"aqua\",\"beige\",\"lightpink\"),title=\"Trips by Bases and Days of Week\",figsize=(10,7),width=0.8,legend=False).legend(bbox_to_anchor=(1.2, 1))\n"
   ]
  },
  {
   "cell_type": "markdown",
   "metadata": {},
   "source": [
    "# Analysis for number of trips by Bases:\n",
    "# 1 - Trips by Bases -> Base\"B02617\" had the highest number of trips overall\n",
    "# 2 - Trips by Base and Month -> The highest number of trips overall was recorded in the month of September for Base\"B02617\"\n",
    "# 3 - Trips by Bases and Days of Week -> Thursday was the busiest day as it observed highest trips all bases except Base \"B02764\""
   ]
  }
 ],
 "metadata": {
  "kernelspec": {
   "display_name": "Python 3",
   "language": "python",
   "name": "python3"
  },
  "language_info": {
   "codemirror_mode": {
    "name": "ipython",
    "version": 3
   },
   "file_extension": ".py",
   "mimetype": "text/x-python",
   "name": "python",
   "nbconvert_exporter": "python",
   "pygments_lexer": "ipython3",
   "version": "3.7.6"
  }
 },
 "nbformat": 4,
 "nbformat_minor": 4
}
